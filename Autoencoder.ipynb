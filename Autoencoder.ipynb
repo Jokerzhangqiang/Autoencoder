{
 "cells": [
  {
   "cell_type": "markdown",
   "metadata": {},
   "source": [
    "#                                     TF实现AutoEncoder"
   ]
  },
  {
   "cell_type": "code",
   "execution_count": 1,
   "metadata": {},
   "outputs": [],
   "source": [
    "import numpy as np"
   ]
  },
  {
   "cell_type": "code",
   "execution_count": 2,
   "metadata": {},
   "outputs": [],
   "source": [
    "import sklearn.preprocessing as prep"
   ]
  },
  {
   "cell_type": "code",
   "execution_count": 4,
   "metadata": {},
   "outputs": [],
   "source": [
    "import tensorflow as tf"
   ]
  },
  {
   "cell_type": "code",
   "execution_count": 5,
   "metadata": {},
   "outputs": [],
   "source": [
    "from tensorflow.examples.tutorials.mnist import input_data"
   ]
  },
  {
   "cell_type": "markdown",
   "metadata": {},
   "source": [
    " xavirer初始化器初始化权重，满足均匀分布"
   ]
  },
  {
   "cell_type": "code",
   "execution_count": 6,
   "metadata": {},
   "outputs": [],
   "source": [
    "def xavirer_init(fan_in, fan_out, constant=1):\n",
    "    low = -constant * np.sqrt(6.0 / (fan_in + fan_out))\n",
    "    high = constant * np.sqrt(6.0 / (fan_in + fan_out))\n",
    "    return tf.random_uniform((fan_in,fan_out),minval=low, maxval=high, dtype=tf.float32)"
   ]
  },
  {
   "cell_type": "markdown",
   "metadata": {},
   "source": [
    "创建加高斯噪声的自编码器，隐含层激活函数采用softplus，softplus是平滑版的ReLU，log（1-exp（x）），优化器采用Adam，scale为高斯噪声系数。自动编码器可以用于特征降维，类似主成分分析PCA，但是其相比PCA其性能更强，这是由于神经网络模型可以提取更有效的新特征。"
   ]
  },
  {
   "cell_type": "markdown",
   "metadata": {},
   "source": [
    "对于高斯分布的数据，采用均方误差就好，而对于伯努利分布可以采用交叉熵，这个是可以根据似然函数推导出来的。"
   ]
  },
  {
   "cell_type": "code",
   "execution_count": 16,
   "metadata": {},
   "outputs": [],
   "source": [
    "class AdditiveGaussianNoiseAutoencoder(object):\n",
    "    def __init__(self,n_input,n_hidden,transfer_function=tf.nn.softplus,optimizer=tf.train.AdamOptimizer(),scale=0.1):\n",
    "        self.n_input = n_input\n",
    "        self.n_hidden = n_hidden\n",
    "        self.transfer = transfer_function\n",
    "        self.scale = tf.placeholder(tf.float32)\n",
    "        self.train_scale = scale\n",
    "        network_weights = self._initialize_weights()\n",
    "        self.weights = network_weights\n",
    "        self.x = tf.placeholder(tf.float32,[None,self.n_input])\n",
    "        self.hidden = self.transfer(tf.add(tf.matmul(self.x + scale * tf.random_normal((n_input,)),self.weights['w1']),self.weights['b1']))\n",
    "        #隐藏层 h=softplus((x+ sca* 高斯噪声）* w1 + b1）\n",
    "        self.reconstructurction = tf.add(tf.matmul(self.hidden,self.weights['w2']),self.weights['b2'])\n",
    "        #输出层 复原数据  rec = h * w2 + b2\n",
    "        self.cost = 0.5*tf.reduce_sum(tf.pow(tf.subtract(self.reconstructurction,self.x),2.0))#平方误差作为cost\n",
    "        self.optimizer =optimizer.minimize(self.cost)#优化器，最小化代价函数\n",
    "        \n",
    "        init = tf.global_variables_initializer()\n",
    "        self.sess = tf.Session()\n",
    "        self.sess.run(init)\n",
    "        \n",
    "    def _initialize_weights(self):#初始化权重\n",
    "        all_weights = dict()\n",
    "        all_weights['w1'] = tf.Variable(xavirer_init(self.n_input,self.n_hidden))\n",
    "        all_weights['b1'] = tf.Variable(tf.zeros([self.n_hidden],dtype = tf.float32))\n",
    "        all_weights['w2'] = tf.Variable(tf.zeros([self.n_hidden,self.n_input],dtype = tf.float32))\n",
    "        all_weights['b2'] = tf.Variable(tf.zeros([self.n_input],dtype = tf.float32))\n",
    "        return all_weights\n",
    "    def partial_fit(self,X):#执行两个计算图节点（cost ，opt）用一个batch数据进行训练，并返回cost\n",
    "        cost,opt = self.sess.run((self.cost,self.optimizer),feed_dict={self.x:X,self.scale:self.train_scale})\n",
    "        return cost\n",
    "    def calc_total_cost(self,X):#执行计算一个图节点cost，这个函数会在训练完成后，对测试集进行性能测评时用到\n",
    "        return self.sess.run(self.cost,feed_dict={self.x:X,self.scale:self.train_scale})\n",
    "    def transform(self,X):#返回自编码器隐藏层的输出结果\n",
    "        return self.sess.run(self.hidden, feed_dict={self.x:X,self.scale:self.train_scale})\n",
    "    def generate(self,hidden = None):#将隐藏层的结果作为输入，提取高阶特征，复原原始数据\n",
    "        if hidden is None:\n",
    "            hidden = np.random.normal(size = self.weights['b1'])\n",
    "        return self.sess.run(self.reconstructurction,feed_dict={self.hidden:hidden})\n",
    "    def reconstruct(self,X):#整体运行一边。包括transform和generate，输入原始数据，输出复原数据\n",
    "        return self.sess.run(self.reconstructurction, feed_dict={self.x:X,self.scale:self.train_scale})\n",
    "    def getWeights(self):#获取隐藏层的权重\n",
    "        return self.sess.run(self.weights['w1'])\n",
    "    def getBiases(self):#获取隐藏层的偏执系数\n",
    "        return self.sess.run(self.weights['b1'])"
   ]
  },
  {
   "cell_type": "code",
   "execution_count": 17,
   "metadata": {},
   "outputs": [
    {
     "name": "stdout",
     "output_type": "stream",
     "text": [
      "Extracting MNIST_data\\train-images-idx3-ubyte.gz\n",
      "Extracting MNIST_data\\train-labels-idx1-ubyte.gz\n",
      "Extracting MNIST_data\\t10k-images-idx3-ubyte.gz\n",
      "Extracting MNIST_data\\t10k-labels-idx1-ubyte.gz\n"
     ]
    }
   ],
   "source": [
    "mnist = input_data.read_data_sets('MNIST_data',one_hot=True)"
   ]
  },
  {
   "cell_type": "code",
   "execution_count": 18,
   "metadata": {},
   "outputs": [],
   "source": [
    "def standard_scale(X_train,X_test):#对测试数据进行标准化处理，实现均值为0，标准差为1，为了保证一致性，所以公用scale，\n",
    "    preprocessing = prep.StandardScaler().fit(X_train)\n",
    "    x_train = preprocessing.transform(X_train)\n",
    "    x_test = preprocessing.transform(X_test)\n",
    "    return x_train,x_test"
   ]
  },
  {
   "cell_type": "code",
   "execution_count": 19,
   "metadata": {},
   "outputs": [],
   "source": [
    "def get_random_block_from_data(data,batch_size):#随机获取block数据的函数，从0到len（data）-batch_size之间随机取一个数，然后以这个数为起始位置\n",
    "    #往后取一个batch_size的数据\n",
    "    start_index = np.random.randint(0, len(data)-batch_size)\n",
    "    return data[start_index:(start_index + batch_size)]"
   ]
  },
  {
   "cell_type": "code",
   "execution_count": 20,
   "metadata": {},
   "outputs": [],
   "source": [
    "X_train,X_test = standard_scale(mnist.train.images, mnist.test.images)"
   ]
  },
  {
   "cell_type": "code",
   "execution_count": 21,
   "metadata": {},
   "outputs": [],
   "source": [
    "n_sample = int(mnist.train.num_examples)\n",
    "training_epochs = 20"
   ]
  },
  {
   "cell_type": "code",
   "execution_count": 22,
   "metadata": {},
   "outputs": [],
   "source": [
    "batch_size = 128\n",
    "display_step = 1"
   ]
  },
  {
   "cell_type": "markdown",
   "metadata": {},
   "source": [
    "mnist数据集图片的大小是28*28=784，输入层为784个节点，其中隐藏层设置了200节点，"
   ]
  },
  {
   "cell_type": "code",
   "execution_count": 24,
   "metadata": {},
   "outputs": [],
   "source": [
    "autoencoder = AdditiveGaussianNoiseAutoencoder(n_input=784, n_hidden=200,\n",
    "                                              transfer_function= tf.nn.softplus,\n",
    "                                              optimizer= tf.train.AdamOptimizer(learning_rate = 0.001),\n",
    "                                              scale=0.01)"
   ]
  },
  {
   "cell_type": "code",
   "execution_count": 25,
   "metadata": {},
   "outputs": [
    {
     "name": "stdout",
     "output_type": "stream",
     "text": [
      "Epoch: 0001 cost =  19326.359272727\n",
      "Epoch: 0002 cost =  12476.875864773\n",
      "Epoch: 0003 cost =  10801.410061932\n",
      "Epoch: 0004 cost =  9687.687532386\n",
      "Epoch: 0005 cost =  10999.193707955\n",
      "Epoch: 0006 cost =  9594.365609091\n",
      "Epoch: 0007 cost =  9490.001972727\n",
      "Epoch: 0008 cost =  8545.497261932\n",
      "Epoch: 0009 cost =  8455.178255682\n",
      "Epoch: 0010 cost =  8236.112156250\n",
      "Epoch: 0011 cost =  8106.726167045\n",
      "Epoch: 0012 cost =  8560.045123295\n",
      "Epoch: 0013 cost =  8813.962448295\n",
      "Epoch: 0014 cost =  7748.899409659\n",
      "Epoch: 0015 cost =  8028.529601705\n",
      "Epoch: 0016 cost =  8306.481492614\n",
      "Epoch: 0017 cost =  7993.290469318\n",
      "Epoch: 0018 cost =  7433.967768750\n",
      "Epoch: 0019 cost =  8167.394723864\n",
      "Epoch: 0020 cost =  7893.332692045\n"
     ]
    }
   ],
   "source": [
    "for epoch in range(training_epochs):\n",
    "    avg_cost = 0.\n",
    "    total_batch = int(n_sample / batch_size)\n",
    "    for i in range(total_batch):\n",
    "        batch_xs = get_random_block_from_data(X_train,batch_size)\n",
    "        \n",
    "        cost = autoencoder.partial_fit(batch_xs)\n",
    "        avg_cost += cost/n_sample *batch_size\n",
    "        \n",
    "    if epoch % display_step == 0:\n",
    "        print(\"Epoch:\",'%04d' % (epoch + 1),\"cost = \",\"{:.9f}\".format(avg_cost))\n",
    "    "
   ]
  },
  {
   "cell_type": "code",
   "execution_count": 27,
   "metadata": {},
   "outputs": [
    {
     "name": "stdout",
     "output_type": "stream",
     "text": [
      "Total cost:650474.3\n"
     ]
    }
   ],
   "source": [
    "print(\"Total cost:\" + str(autoencoder.calc_total_cost(X_test)))"
   ]
  },
  {
   "cell_type": "code",
   "execution_count": null,
   "metadata": {},
   "outputs": [],
   "source": []
  }
 ],
 "metadata": {
  "kernelspec": {
   "display_name": "Python 3",
   "language": "python",
   "name": "python3"
  },
  "language_info": {
   "codemirror_mode": {
    "name": "ipython",
    "version": 3
   },
   "file_extension": ".py",
   "mimetype": "text/x-python",
   "name": "python",
   "nbconvert_exporter": "python",
   "pygments_lexer": "ipython3",
   "version": "3.6.2"
  }
 },
 "nbformat": 4,
 "nbformat_minor": 2
}
